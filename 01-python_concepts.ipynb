{
 "cells": [
  {
   "cell_type": "markdown",
   "id": "9383bafa",
   "metadata": {},
   "source": [
    "### Python Programming Concepts"
   ]
  },
  {
   "cell_type": "markdown",
   "id": "17df7d6e",
   "metadata": {},
   "source": [
    "#### 1. Create a variable to store the value 500 for sales"
   ]
  },
  {
   "cell_type": "code",
   "execution_count": 14,
   "id": "a5f43c2f",
   "metadata": {},
   "outputs": [
    {
     "name": "stdout",
     "output_type": "stream",
     "text": [
      "500\n"
     ]
    }
   ],
   "source": [
    "import random\n",
    "sales = 500\n",
    "print(sales)\n",
    "\n",
    "\n",
    "# making changes\n"
   ]
  },
  {
   "cell_type": "markdown",
   "id": "6dc8b9ea",
   "metadata": {},
   "source": [
    "#### 2. Create a variable to store several values:  \n",
    "* sales: 500, 475, 625\n",
    "* integers 1 - 9 "
   ]
  },
  {
   "cell_type": "code",
   "execution_count": 3,
   "id": "902fe3bd",
   "metadata": {},
   "outputs": [
    {
     "name": "stdout",
     "output_type": "stream",
     "text": [
      "[500, 475, 625] [1, 2, 3, 4, 5, 6, 7, 8, 9]\n"
     ]
    }
   ],
   "source": [
    "sales = [500, 475, 625]\n",
    "integers = [1, 2, 3, 4, 5, 6, 7, 8, 9]\n",
    "print(sales, integers)"
   ]
  },
  {
   "cell_type": "markdown",
   "id": "62e55953",
   "metadata": {},
   "source": [
    "#### 3. Create a variable to store the names and email addresses for a number of customers\n",
    "* John, john@some.com; Ann, ann@some.com"
   ]
  },
  {
   "cell_type": "code",
   "execution_count": 2,
   "id": "03f2b161",
   "metadata": {},
   "outputs": [
    {
     "name": "stdout",
     "output_type": "stream",
     "text": [
      "Hit enter when done\n",
      "Hit enter when done\n",
      "Hit enter when done\n",
      "Hit enter when done\n",
      "['jsafklds', 'afdskljfdlas', 'asfkldjasd', 'asdlkfjlas']\n"
     ]
    }
   ],
   "source": [
    "done = False\n",
    "count = 0\n",
    "emails = []\n",
    "while done == False:\n",
    "    email = str(input(\"Enter your email address:  \"))\n",
    "    if email == '':\n",
    "        done = True\n",
    "    else:\n",
    "        print(\"Hit enter when done\")\n",
    "        count += 1\n",
    "        emails.append(email)\n",
    "\n",
    "print(emails)"
   ]
  },
  {
   "cell_type": "markdown",
   "id": "d6b1e8c6",
   "metadata": {},
   "source": [
    "#### 4. Use Python to generate a random value based on each of following:\n",
    "1. between 0 and 1\n",
    "2. the standard normal distribution (rounded to two decimal places)\n",
    "3. a value between 1 and 10\n",
    "4. either H or T"
   ]
  },
  {
   "cell_type": "code",
   "execution_count": 26,
   "id": "f004d7b5",
   "metadata": {},
   "outputs": [
    {
     "name": "stdout",
     "output_type": "stream",
     "text": [
      "1\n",
      "tales\n"
     ]
    }
   ],
   "source": [
    "import random\n",
    "\n",
    "#1\n",
    "random_num = random.randint(0, 1)\n",
    "print(random_num)\n",
    "\n",
    "#2 // not sure how to do\n",
    "\n",
    "#3\n",
    "random_ten = random.randint(0, 10)\n",
    "\n",
    "#4 \n",
    "heads_tails = ['heads', 'tales']\n",
    "coin_flip = random.choice(heads_tails)\n",
    "print(coin_flip)"
   ]
  },
  {
   "cell_type": "markdown",
   "id": "7eddf06a",
   "metadata": {},
   "source": [
    "#### 5. Use Python to determine your current working directory"
   ]
  },
  {
   "cell_type": "code",
   "execution_count": 46,
   "id": "d8f79474",
   "metadata": {},
   "outputs": [
    {
     "name": "stdout",
     "output_type": "stream",
     "text": [
      "/Users/justinstone/Documents/advanced_programming/OIM7502_SP24\n"
     ]
    }
   ],
   "source": [
    "import os\n",
    "print(os.getcwd())"
   ]
  },
  {
   "cell_type": "markdown",
   "id": "fc43ec50",
   "metadata": {},
   "source": [
    "#### 6. Use Python to determine how many days until New Year's Day"
   ]
  },
  {
   "cell_type": "code",
   "execution_count": 4,
   "id": "13f630fe",
   "metadata": {},
   "outputs": [
    {
     "name": "stdout",
     "output_type": "stream",
     "text": [
      "345\n"
     ]
    }
   ],
   "source": [
    "from datetime import datetime\n",
    "\n",
    "current_date = datetime.now()\n",
    "\n",
    "new_year_date = datetime(current_date.year + 1, 1, 1)\n",
    "\n",
    "days_until_new_year = (new_year_date - current_date).days\n",
    "\n",
    "print(days_until_new_year)\n"
   ]
  },
  {
   "cell_type": "code",
   "execution_count": null,
   "id": "11f90b50",
   "metadata": {},
   "outputs": [],
   "source": []
  },
  {
   "cell_type": "markdown",
   "id": "2ba4ea92",
   "metadata": {},
   "source": [
    "#### 7. Write a short program that displays the future value of 1,000 earning 5%  at the end of each year for the next 5 years"
   ]
  },
  {
   "cell_type": "code",
   "execution_count": 5,
   "id": "6fef4a8c",
   "metadata": {},
   "outputs": [
    {
     "name": "stdout",
     "output_type": "stream",
     "text": [
      "1050.0\n",
      "1102.5\n",
      "1157.625\n",
      "1215.50625\n"
     ]
    }
   ],
   "source": [
    "investment = 1000\n",
    "\n",
    "for i in range(0,4):\n",
    "    investment = investment + investment * 0.05\n",
    "    print(investment)\n"
   ]
  },
  {
   "cell_type": "markdown",
   "id": "150201c8",
   "metadata": {},
   "source": [
    "#### 8. Write a short program that prompts a user to enter a stock symbol and press enter. Add each symbol entered to a variable. The program should run until the user presses the enter key without entering anything (empty string) "
   ]
  },
  {
   "cell_type": "code",
   "execution_count": null,
   "id": "e04d8ed5",
   "metadata": {},
   "outputs": [],
   "source": []
  },
  {
   "cell_type": "code",
   "execution_count": 2,
   "id": "931a346f",
   "metadata": {},
   "outputs": [
    {
     "name": "stdout",
     "output_type": "stream",
     "text": [
      "['das', 'asdf', 'asdf', 'asdf', 'asdf', '']\n"
     ]
    }
   ],
   "source": [
    "def stock_symbol():\n",
    "    user_done = False\n",
    "    symbols = []\n",
    "    while user_done == False:\n",
    "        user_symbol = str(input(\"Please enter a stock symbol: \"))\n",
    "        symbols.append(user_symbol)\n",
    "        if user_symbol == '':\n",
    "            user_done = True\n",
    "    print(symbols)\n",
    "\n",
    "stock_symbol()"
   ]
  },
  {
   "cell_type": "markdown",
   "id": "fc2a7592",
   "metadata": {},
   "source": [
    "#### 9. Write the code necessary to calculate the sum of the square differences of a group of values : \n",
    "58, 32, 37, 41, 36, 36, 54, 37, 25, 53\n",
    "##### $\\Sigma $(${x}$ - $\\bar{x}$)$^2$"
   ]
  },
  {
   "cell_type": "code",
   "execution_count": 4,
   "id": "8968d989",
   "metadata": {},
   "outputs": [
    {
     "name": "stdout",
     "output_type": "stream",
     "text": [
      "1020.9000000000001\n"
     ]
    }
   ],
   "source": [
    "nums = 58, 32, 37, 41, 36, 36, 54, 37, 25, 53\n",
    "mean = sum(nums) / len(nums)\n",
    "square_difference = 0\n",
    "\n",
    "for i in nums:\n",
    "    square_difference += (i - mean) ** 2\n",
    "\n",
    "print(square_difference)\n",
    "\n"
   ]
  },
  {
   "cell_type": "markdown",
   "id": "6d6f2e64",
   "metadata": {},
   "source": [
    "#### 10. Opening, reading and writing files"
   ]
  },
  {
   "cell_type": "code",
   "execution_count": 7,
   "id": "f7fa569d",
   "metadata": {},
   "outputs": [
    {
     "ename": "SyntaxError",
     "evalue": "incomplete input (1379972116.py, line 5)",
     "output_type": "error",
     "traceback": [
      "\u001b[0;36m  Cell \u001b[0;32mIn[7], line 5\u001b[0;36m\u001b[0m\n\u001b[0;31m    # print(lines)\u001b[0m\n\u001b[0m                  ^\u001b[0m\n\u001b[0;31mSyntaxError\u001b[0m\u001b[0;31m:\u001b[0m incomplete input\n"
     ]
    }
   ],
   "source": [
    "import csv\n",
    "with open('data/Bikeshare.csv', mode ='r')as file:\n",
    "  csv_file = csv.reader(file)\n",
    "  for lines in csv_file:\n",
    "    # print(lines)"
   ]
  },
  {
   "cell_type": "markdown",
   "id": "eec548d6",
   "metadata": {},
   "source": [
    "#### 11. Create a function the will simulate rolling two die and return the value of each and and the sum "
   ]
  },
  {
   "cell_type": "code",
   "execution_count": 18,
   "id": "bb115cdc",
   "metadata": {},
   "outputs": [
    {
     "name": "stdout",
     "output_type": "stream",
     "text": [
      "first roll: 5\n",
      "second roll: 3\n",
      "8\n"
     ]
    }
   ],
   "source": [
    "import random\n",
    "def two_die():\n",
    "    first_die = random.randint(1, 6)\n",
    "    second_die = random.randint(1,6)\n",
    "    total = first_die + second_die\n",
    "    print(\"first roll: \" + str(first_die))\n",
    "    print(\"second roll: \" + str(second_die))\n",
    "    print(total)\n",
    "two_die()"
   ]
  },
  {
   "cell_type": "markdown",
   "id": "21556d7f",
   "metadata": {},
   "source": [
    "#### 12. Write the code needed to evaluate whether a value in a group of values is negative or postive and prints an approriate message, i.e. postive, negative \n",
    "-1.59, 2.36, 1.69, 1.13, -0.91, 1.48, -0.34, 1.31, -0.74, 0.2"
   ]
  },
  {
   "cell_type": "code",
   "execution_count": 20,
   "id": "d6c38ecb",
   "metadata": {},
   "outputs": [
    {
     "name": "stdout",
     "output_type": "stream",
     "text": [
      "negative\n",
      "positive\n",
      "positive\n",
      "positive\n",
      "negative\n",
      "positive\n",
      "negative\n",
      "positive\n",
      "negative\n",
      "positive\n",
      "['-', '+', '+', '+', '-', '+', '-', '+', '-', '+']\n"
     ]
    }
   ],
   "source": [
    "nums = [-1.59, 2.36, 1.69, 1.13, -0.91, 1.48, -0.34, 1.31, -0.74, 0.2]\n",
    "values = []\n",
    "for i in nums:\n",
    "    if i < 0:\n",
    "        print(\"negative\")\n",
    "        values.append(\"-\")\n",
    "    else: \n",
    "        print(\"positive\")\n",
    "        values.append(\"+\")\n",
    "\n",
    "print(values)\n"
   ]
  },
  {
   "cell_type": "markdown",
   "id": "8cafe65c",
   "metadata": {},
   "source": [
    "#### 14.  Complete the following:\n",
    "1. Write a program that generates 500 random integers from 1 to n, for example, the first integer will be 1 the second will be 1 or 2, the fifth between 1 and 5, and so on.\n",
    "2. The program should write each integer to a file \n",
    "3. Once all integers are written close the file\n",
    "\n",
    "##### Part 2\n",
    "1. Open and read the file into a list\n",
    "2. Create a line plot of the data"
   ]
  },
  {
   "cell_type": "code",
   "execution_count": 4,
   "id": "60a910bb",
   "metadata": {},
   "outputs": [],
   "source": [
    "import random\n",
    "\n",
    "def num_generator(filename):\n",
    "    n = 500\n",
    "    with open(filename, 'w') as file:\n",
    "        for i in range(1, n + 1):\n",
    "            rand_int = random.randint(1, i)\n",
    "            file.write(f\"{rand_int}\\n\")\n",
    "\n",
    "filename = \"random.txt\"\n",
    "\n",
    "num_generator(filename)"
   ]
  },
  {
   "cell_type": "code",
   "execution_count": null,
   "id": "d6b4180c",
   "metadata": {},
   "outputs": [],
   "source": [
    "import matplotlib.pyplot as pyplot\n",
    "\n",
    "filename = \"/Users/justinstone/Documents/Advanced_Programming/OIM7502/random.txt\"\n",
    "    with open(filename, 'r') as file:\n",
    "        # Not sure how to finish this code"
   ]
  },
  {
   "cell_type": "code",
   "execution_count": null,
   "id": "adb6aa11",
   "metadata": {},
   "outputs": [],
   "source": []
  },
  {
   "cell_type": "code",
   "execution_count": null,
   "id": "6745da79",
   "metadata": {},
   "outputs": [],
   "source": []
  },
  {
   "cell_type": "code",
   "execution_count": null,
   "id": "21140445",
   "metadata": {},
   "outputs": [],
   "source": []
  },
  {
   "cell_type": "code",
   "execution_count": null,
   "id": "3d546600",
   "metadata": {},
   "outputs": [],
   "source": []
  }
 ],
 "metadata": {
  "kernelspec": {
   "display_name": "Python 3 (ipykernel)",
   "language": "python",
   "name": "python3"
  },
  "language_info": {
   "codemirror_mode": {
    "name": "ipython",
    "version": 3
   },
   "file_extension": ".py",
   "mimetype": "text/x-python",
   "name": "python",
   "nbconvert_exporter": "python",
   "pygments_lexer": "ipython3",
   "version": "3.10.8"
  }
 },
 "nbformat": 4,
 "nbformat_minor": 5
}
